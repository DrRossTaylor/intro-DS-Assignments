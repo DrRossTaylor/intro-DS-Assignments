{
 "cells": [
  {
   "cell_type": "markdown",
   "metadata": {},
   "source": [
    "# Extra Credit - Analyze Covid-19 Data"
   ]
  },
  {
   "cell_type": "markdown",
   "metadata": {},
   "source": [
    "In this notebook, you'll analyze county-level data on confirmed Covid cases and deaths. This data was taken from the NY Times' Github repository on 4/12/20."
   ]
  },
  {
   "cell_type": "code",
   "execution_count": 1,
   "metadata": {},
   "outputs": [],
   "source": [
    "import numpy as np\n",
    "from datascience import *\n",
    "\n",
    "# These lines set up graphing capabilities.\n",
    "import matplotlib\n",
    "%matplotlib inline\n",
    "import matplotlib.pyplot as plt\n",
    "plt.style.use('fivethirtyeight')\n",
    "import warnings\n",
    "warnings.simplefilter('ignore', FutureWarning)"
   ]
  },
  {
   "cell_type": "code",
   "execution_count": 3,
   "metadata": {},
   "outputs": [
    {
     "data": {
      "text/html": [
       "<table border=\"1\" class=\"dataframe\">\n",
       "    <thead>\n",
       "        <tr>\n",
       "            <th>date</th> <th>county</th> <th>state</th> <th>fips</th> <th>cases</th> <th>deaths</th>\n",
       "        </tr>\n",
       "    </thead>\n",
       "    <tbody>\n",
       "        <tr>\n",
       "            <td>2020-01-21</td> <td>Snohomish  </td> <td>Washington</td> <td>53061</td> <td>1    </td> <td>0     </td>\n",
       "        </tr>\n",
       "        <tr>\n",
       "            <td>2020-01-22</td> <td>Snohomish  </td> <td>Washington</td> <td>53061</td> <td>1    </td> <td>0     </td>\n",
       "        </tr>\n",
       "        <tr>\n",
       "            <td>2020-01-23</td> <td>Snohomish  </td> <td>Washington</td> <td>53061</td> <td>1    </td> <td>0     </td>\n",
       "        </tr>\n",
       "        <tr>\n",
       "            <td>2020-01-24</td> <td>Cook       </td> <td>Illinois  </td> <td>17031</td> <td>1    </td> <td>0     </td>\n",
       "        </tr>\n",
       "        <tr>\n",
       "            <td>2020-01-24</td> <td>Snohomish  </td> <td>Washington</td> <td>53061</td> <td>1    </td> <td>0     </td>\n",
       "        </tr>\n",
       "        <tr>\n",
       "            <td>2020-01-25</td> <td>Orange     </td> <td>California</td> <td>6059 </td> <td>1    </td> <td>0     </td>\n",
       "        </tr>\n",
       "        <tr>\n",
       "            <td>2020-01-25</td> <td>Cook       </td> <td>Illinois  </td> <td>17031</td> <td>1    </td> <td>0     </td>\n",
       "        </tr>\n",
       "        <tr>\n",
       "            <td>2020-01-25</td> <td>Snohomish  </td> <td>Washington</td> <td>53061</td> <td>1    </td> <td>0     </td>\n",
       "        </tr>\n",
       "        <tr>\n",
       "            <td>2020-01-26</td> <td>Maricopa   </td> <td>Arizona   </td> <td>4013 </td> <td>1    </td> <td>0     </td>\n",
       "        </tr>\n",
       "        <tr>\n",
       "            <td>2020-01-26</td> <td>Los Angeles</td> <td>California</td> <td>6037 </td> <td>1    </td> <td>0     </td>\n",
       "        </tr>\n",
       "    </tbody>\n",
       "</table>\n",
       "<p>... (51159 rows omitted)</p>"
      ],
      "text/plain": [
       "date       | county      | state      | fips  | cases | deaths\n",
       "2020-01-21 | Snohomish   | Washington | 53061 | 1     | 0\n",
       "2020-01-22 | Snohomish   | Washington | 53061 | 1     | 0\n",
       "2020-01-23 | Snohomish   | Washington | 53061 | 1     | 0\n",
       "2020-01-24 | Cook        | Illinois   | 17031 | 1     | 0\n",
       "2020-01-24 | Snohomish   | Washington | 53061 | 1     | 0\n",
       "2020-01-25 | Orange      | California | 6059  | 1     | 0\n",
       "2020-01-25 | Cook        | Illinois   | 17031 | 1     | 0\n",
       "2020-01-25 | Snohomish   | Washington | 53061 | 1     | 0\n",
       "2020-01-26 | Maricopa    | Arizona    | 4013  | 1     | 0\n",
       "2020-01-26 | Los Angeles | California | 6037  | 1     | 0\n",
       "... (51159 rows omitted)"
      ]
     },
     "execution_count": 3,
     "metadata": {},
     "output_type": "execute_result"
    }
   ],
   "source": [
    "covid_data = Table.read_table('us-counties.csv')\n",
    "covid_data"
   ]
  },
  {
   "cell_type": "markdown",
   "metadata": {},
   "source": [
    "Be sure to read about the data (what it means, how it is represented, especially with respect to NYC) [here](https://github.com/nytimes/covid-19-data#coronavirus-covid-19-data-in-the-united-states)."
   ]
  },
  {
   "cell_type": "markdown",
   "metadata": {},
   "source": [
    "Now, have fun putting your Data Science skills to use in exploring this data! You can use your table skills to group by state and explore questions at that level. You can plot things geographically using map methods, over time using line plots. You can join this table with some other table, make scatter plots. These are just a couple ideas - I'd love to see what you come up with!\n",
    "\n",
    "I'd suggest starting with a specific goal or question. At the very least, write some explanation/analysis of the table or visualization you've created.\n",
    "\n",
    "This extra credit lab will be worth up to 12 points added to your lab score. In order to receive full credit, you must show and explain at least 4 different tables or visualizations. This rule may be relaxed if you do something particularly complex or creative. Feel free to use other data sets - include links to where you got them.\n",
    "\n",
    "Deadline is the end of final exam week."
   ]
  },
  {
   "cell_type": "code",
   "execution_count": null,
   "metadata": {},
   "outputs": [],
   "source": []
  }
 ],
 "metadata": {
  "kernelspec": {
   "display_name": "Python 3",
   "language": "python",
   "name": "python3"
  },
  "language_info": {
   "codemirror_mode": {
    "name": "ipython",
    "version": 3
   },
   "file_extension": ".py",
   "mimetype": "text/x-python",
   "name": "python",
   "nbconvert_exporter": "python",
   "pygments_lexer": "ipython3",
   "version": "3.7.3"
  }
 },
 "nbformat": 4,
 "nbformat_minor": 2
}
