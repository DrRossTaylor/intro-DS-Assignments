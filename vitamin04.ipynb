{
  "nbformat": 4,
  "nbformat_minor": 0,
  "metadata": {
    "kernelspec": {
      "display_name": "Python 3",
      "language": "python",
      "name": "python3"
    },
    "language_info": {
      "codemirror_mode": {
        "name": "ipython",
        "version": 3
      },
      "file_extension": ".py",
      "mimetype": "text/x-python",
      "name": "python",
      "nbconvert_exporter": "python",
      "pygments_lexer": "ipython3",
      "version": "3.7.4"
    },
    "colab": {
      "name": "vitamin04.ipynb",
      "provenance": [],
      "include_colab_link": true
    }
  },
  "cells": [
    {
      "cell_type": "markdown",
      "metadata": {
        "id": "view-in-github",
        "colab_type": "text"
      },
      "source": [
        "<a href=\"https://colab.research.google.com/github/DrRossTaylor/intro-DS-Assignments/blob/master/vitamin04.ipynb\" target=\"_parent\"><img src=\"https://colab.research.google.com/assets/colab-badge.svg\" alt=\"Open In Colab\"/></a>"
      ]
    },
    {
      "cell_type": "code",
      "metadata": {
        "id": "cbBhV34HlfLe"
      },
      "source": [
        "# Don't change this cell; just run it. \n",
        "# When you log-in please hit return (not shift + return) after typing in your email\n",
        "from datascience import *"
      ],
      "execution_count": null,
      "outputs": []
    },
    {
      "cell_type": "markdown",
      "metadata": {
        "id": "RSWrIJrPlfLf"
      },
      "source": [
        "# Vitamin 4"
      ]
    },
    {
      "cell_type": "markdown",
      "metadata": {
        "id": "ZQr8LCsklfLg"
      },
      "source": [
        "### **Note**: Some questions have feedback that will guide you to the correct answer, while others will have hidden tests that do not provide feedback. For those that do not have feedback, the `ok.grade` cell will say 100% passed, as long as you put one of the possible choices. **100% passed does not necessarily mean you got the question right!**\n",
        "\n",
        "As long as you watched lecture, you should be able to answer these. If you are stuck, feel free to post on Piazza in the relevant threads!\n",
        "\n",
        "**Deadline**: Vitamin 4 is due Friday (9/4) by 10:59am PDT.\n",
        "\n",
        "**Submission**: Once you're finished, select \"Save and Checkpoint\" in the File menu and then run the submit cell at the end. The result will contain a link that you can use to check that your assignment has been submitted successfully. "
      ]
    },
    {
      "cell_type": "markdown",
      "metadata": {
        "deletable": false,
        "editable": false,
        "id": "UqWkExPVlfLh"
      },
      "source": [
        "**A. Which statement is true about this conversion? Assign `answer_A` to 1, 2, or 3.**\n",
        "\n",
        "`int(1.2)`\n",
        "\n",
        "<ol>\n",
        "    <li>Converting a float to an integer causes an error</li>\n",
        "    <li>Converting a float to an integer causes a loss of information</li>\n",
        "    <li>Converting a float to an integer results in the same exact number</li>\n",
        "</ol>\n",
        "\n",
        "<!--\n",
        "BEGIN QUESTION\n",
        "name: qA\n",
        "manual: false\n",
        "-->"
      ]
    },
    {
      "cell_type": "code",
      "metadata": {
        "id": "T2bFmsA1lfLi"
      },
      "source": [
        "answer_A = ..."
      ],
      "execution_count": null,
      "outputs": []
    },
    {
      "cell_type": "markdown",
      "metadata": {
        "deletable": false,
        "editable": false,
        "id": "X0CCrMiolfLk"
      },
      "source": [
        "**B. Assume that you have run the following statements**\n",
        "```\n",
        "x = 3\n",
        "y = \"4\"\n",
        "z = \"5.6\"\n",
        "```\n",
        "\n",
        "**Which expression would *not* cause an error? Assign `answer_B` 1,2,3, or 4.**\n",
        "\n",
        "1. `x + y`\n",
        "2.  `str(x) + int(y)`\n",
        "3. `y + z`\n",
        "4.  `str(x, y) + z`\n",
        "\n",
        "<!--\n",
        "BEGIN QUESTION\n",
        "name: qB\n",
        "manual: false\n",
        "-->"
      ]
    },
    {
      "cell_type": "code",
      "metadata": {
        "id": "usbnEqy5lfLk"
      },
      "source": [
        "answer_B = ..."
      ],
      "execution_count": null,
      "outputs": []
    }
  ]
}