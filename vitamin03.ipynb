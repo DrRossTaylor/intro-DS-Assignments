{
  "nbformat": 4,
  "nbformat_minor": 0,
  "metadata": {
    "kernelspec": {
      "display_name": "Python 3",
      "language": "python",
      "name": "python3"
    },
    "language_info": {
      "codemirror_mode": {
        "name": "ipython",
        "version": 3
      },
      "file_extension": ".py",
      "mimetype": "text/x-python",
      "name": "python",
      "nbconvert_exporter": "python",
      "pygments_lexer": "ipython3",
      "version": "3.7.0"
    },
    "colab": {
      "name": "vitamin03.ipynb",
      "provenance": [],
      "include_colab_link": true
    }
  },
  "cells": [
    {
      "cell_type": "markdown",
      "metadata": {
        "id": "view-in-github",
        "colab_type": "text"
      },
      "source": [
        "<a href=\"https://colab.research.google.com/github/DrRossTaylor/intro-DS-Assignments/blob/master/vitamin03.ipynb\" target=\"_parent\"><img src=\"https://colab.research.google.com/assets/colab-badge.svg\" alt=\"Open In Colab\"/></a>"
      ]
    },
    {
      "cell_type": "markdown",
      "metadata": {
        "id": "maPrxp0sjPkW"
      },
      "source": [
        "# Vitamin 3"
      ]
    },
    {
      "cell_type": "markdown",
      "metadata": {
        "id": "NfLqTKD7jPkY"
      },
      "source": [
        "### **Note**: \n",
        "As long as you watched the lecture, you should be able to answer these. If you are stuck, feel free to post on Teams in the relevant threads!\n",
        "\n",
        "**Deadline**: Vitamin 3 is due Wednesday (2/16) by 2:00.\n",
        "\n",
        "**Submission**: Once you're finished, submit via Teams."
      ]
    },
    {
      "cell_type": "markdown",
      "metadata": {
        "deletable": false,
        "editable": false,
        "id": "E8932CCKjPkZ"
      },
      "source": [
        "**A. True or false? In this class, the following is a valid table.** Assign answer_A to 1 or 2.\n",
        "\n",
        "| Brand  | Haagen Dazs  | Humphry Slocombe  | Talenti            |\n",
        "|--------|--------------|-------------------|--------------------|\n",
        "| Flavor | Vanilla Bean | Vietnamese Coffee | Mediterranean Mint |\n",
        "| Price  | 3.89         | 4.54              | $4.78              |\n",
        "\n",
        "1. `True`\n",
        "2. `False`\n",
        "\n",
        "<!--\n",
        "BEGIN QUESTION\n",
        "name: qA\n",
        "manual: false\n",
        "-->"
      ]
    },
    {
      "cell_type": "code",
      "metadata": {
        "id": "oVbJE3DDjPka"
      },
      "source": [
        "answer_A = ..."
      ],
      "execution_count": null,
      "outputs": []
    },
    {
      "cell_type": "markdown",
      "metadata": {
        "deletable": false,
        "editable": false,
        "id": "oHZCoFVujPkb"
      },
      "source": [
        "**B. Greg and Emily just learned about some table operations. Greg claims that operations such as `.select` and `.where` modify the original table, so they need to be careful when using it. Emily tells Greg not to worry. She thinks that these operations actually create a new table. Who is actually correct? Assign answer_B to 1 or 2.**\n",
        "<ol>\n",
        "    <li>Greg</li>\n",
        "    <li>Emily</li>\n",
        "</ol>\n",
        "\n",
        "<!--\n",
        "BEGIN QUESTION\n",
        "name: qB\n",
        "manual: false\n",
        "-->"
      ]
    },
    {
      "cell_type": "code",
      "metadata": {
        "id": "bKeiNMTvjPkb"
      },
      "source": [
        "answer_B = ..."
      ],
      "execution_count": null,
      "outputs": []
    },
    {
      "cell_type": "markdown",
      "metadata": {
        "id": "tkkp6VR9jPkc"
      },
      "source": [
        "### Submit via Teams\r\n",
        "\r\n"
      ]
    }
  ]
}