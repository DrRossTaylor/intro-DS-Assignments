{
  "nbformat": 4,
  "nbformat_minor": 0,
  "metadata": {
    "kernelspec": {
      "display_name": "Python 3",
      "language": "python",
      "name": "python3"
    },
    "language_info": {
      "codemirror_mode": {
        "name": "ipython",
        "version": 3
      },
      "file_extension": ".py",
      "mimetype": "text/x-python",
      "name": "python",
      "nbconvert_exporter": "python",
      "pygments_lexer": "ipython3",
      "version": "3.8.3"
    },
    "colab": {
      "name": "Copy of vitamin02.ipynb",
      "provenance": [],
      "include_colab_link": true
    }
  },
  "cells": [
    {
      "cell_type": "markdown",
      "metadata": {
        "id": "view-in-github",
        "colab_type": "text"
      },
      "source": [
        "<a href=\"https://colab.research.google.com/github/DrRossTaylor/intro-DS-Assignments/blob/master/vitamin02Student.ipynb\" target=\"_parent\"><img src=\"https://colab.research.google.com/assets/colab-badge.svg\" alt=\"Open In Colab\"/></a>"
      ]
    },
    {
      "cell_type": "markdown",
      "metadata": {
        "id": "XkqGgWJafgFf"
      },
      "source": [
        "# Vitamin 2"
      ]
    },
    {
      "cell_type": "markdown",
      "metadata": {
        "id": "q4ieEydifgFg"
      },
      "source": [
        "As long as you paid attention to the lecture, you should be able to answer these. If you are stuck, feel free to post on Teams in the relevant threads!\n",
        "\n",
        "**Deadline**: Vitamin 2 is due Monday (2/16) by 2:00pm."
      ]
    },
    {
      "cell_type": "markdown",
      "metadata": {
        "deletable": false,
        "editable": false,
        "id": "CAi-pW-efgFh"
      },
      "source": [
        "**A. Fill in the blanks: If the treatment and control groups are \\_\\_\\_\\_\\_ apart from the treatment, then the \\_\\_\\_\\_\\_ between the outcomes in the two groups can be ascribed to the \\_\\_\\_\\_\\_. Assign answer_A to 1, 2, 3, or 4.**\n",
        "<ol>\n",
        "    <li>different, similarities, treatment</li>\n",
        "    <li>different, similarities, control</li>\n",
        "    <li>similar, differences, treatment</li>\n",
        "    <li>similar, differences, control</li>\n",
        "</ol>\n",
        "\n",
        "<!--\n",
        "BEGIN QUESTION\n",
        "name: qA\n",
        "manual: false\n",
        "-->"
      ]
    },
    {
      "cell_type": "code",
      "metadata": {
        "id": "7ElRGTxufgFi"
      },
      "source": [
        "answer_A = ..."
      ],
      "execution_count": null,
      "outputs": []
    },
    {
      "cell_type": "markdown",
      "metadata": {
        "deletable": false,
        "editable": false,
        "id": "hWhjyosEfgFj"
      },
      "source": [
        "**B. Which type of study is more likely to be affected by confounding factors? Assign answer_B to 1 or 2.**\n",
        "<ol>\n",
        "    <li>Observational studies</li>\n",
        "    <li>Randomized controlled experiments</li>\n",
        "</ol>\n",
        "\n",
        "<!--\n",
        "BEGIN QUESTION\n",
        "name: qB\n",
        "manual: false\n",
        "-->"
      ]
    },
    {
      "cell_type": "code",
      "metadata": {
        "id": "KScrBMcSfgFk"
      },
      "source": [
        "answer_B = ..."
      ],
      "execution_count": null,
      "outputs": []
    },
    {
      "cell_type": "markdown",
      "metadata": {
        "deletable": false,
        "editable": false,
        "id": "P2hALrV5fgFl"
      },
      "source": [
        "**C. True or False? In data science, randomness implies that a study was conducted haphazardly. Assign answer_C to 1 or 2.**\n",
        "<ol>\n",
        "    <li>True. Scientists and researchers need to be careful to ensure that everything is consistent and uniform to prevent errors. Randomness would introduce error-prone factors that may bias the conclusion of the study.</li>\n",
        "    <li>False. Some studies deliberately introduce randomness to help avoid bias and confounding factors.</li>\n",
        "</ol>\n",
        "\n",
        "\n",
        "<!--\n",
        "BEGIN QUESTION\n",
        "name: qC\n",
        "manual: false\n",
        "-->"
      ]
    },
    {
      "cell_type": "code",
      "metadata": {
        "id": "3LSdH5rBfgFl"
      },
      "source": [
        "answer_C = ..."
      ],
      "execution_count": null,
      "outputs": []
    },
    {
      "cell_type": "markdown",
      "metadata": {
        "id": "xv4Xq6_SfgFm"
      },
      "source": [
        "### Submit via Teams\r\n"
      ]
    }
  ]
}