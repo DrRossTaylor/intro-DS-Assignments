{
 "cells": [
  {
   "cell_type": "code",
   "execution_count": 1,
   "metadata": {},
   "outputs": [],
   "source": [
    "from datascience import *\n",
    "import numpy as np\n",
    "\n",
    "%matplotlib inline\n",
    "import matplotlib.pyplot as plots\n",
    "plots.style.use('fivethirtyeight')"
   ]
  },
  {
   "cell_type": "code",
   "execution_count": 10,
   "metadata": {},
   "outputs": [],
   "source": [
    "# \"first\" function from Practice Midterm\n",
    "def first(x):\n",
    "    \"\"\"x is an array\"\"\"\n",
    "    return x.item(0)"
   ]
  },
  {
   "cell_type": "code",
   "execution_count": 9,
   "metadata": {},
   "outputs": [
    {
     "data": {
      "text/html": [
       "<table border=\"1\" class=\"dataframe\">\n",
       "    <thead>\n",
       "        <tr>\n",
       "            <th>State</th> <th>County</th> <th>2010 Pop</th> <th>2014 Pop</th>\n",
       "        </tr>\n",
       "    </thead>\n",
       "    <tbody>\n",
       "        <tr>\n",
       "            <td>Alabama</td> <td>Autauga County</td> <td>54684   </td> <td>55395   </td>\n",
       "        </tr>\n",
       "        <tr>\n",
       "            <td>Alabama</td> <td>Baldwin County</td> <td>183216  </td> <td>200111  </td>\n",
       "        </tr>\n",
       "        <tr>\n",
       "            <td>Alabama</td> <td>Barbour County</td> <td>27336   </td> <td>26887   </td>\n",
       "        </tr>\n",
       "    </tbody>\n",
       "</table>\n",
       "<p>... (3139 rows omitted)</p>"
      ],
      "text/plain": [
       "<IPython.core.display.HTML object>"
      ]
     },
     "metadata": {},
     "output_type": "display_data"
    }
   ],
   "source": [
    "# County table from Practice Midterm\n",
    "counties = Table.read_table('counties.csv')\n",
    "counties = counties.where('COUNTY', are.not_equal_to(0)).select(5, 6, 9, 13)\n",
    "counties = counties.relabeled('STNAME', 'State').relabeled('CTYNAME', 'County').relabeled('POPESTIMATE2010', '2010 Pop').relabeled('POPESTIMATE2014', '2014 Pop')\n",
    "counties.show(3)"
   ]
  },
  {
   "cell_type": "markdown",
   "metadata": {},
   "source": [
    "**Question 3c.**\n",
    "A new table called `states` that has one row for each state. It should have three columns: the state's name, the total population of the state in 2010, and the total population of the state in 2014. It should not have any column corresponding to county names."
   ]
  },
  {
   "cell_type": "code",
   "execution_count": 13,
   "metadata": {},
   "outputs": [
    {
     "data": {
      "text/html": [
       "<table border=\"1\" class=\"dataframe\">\n",
       "    <thead>\n",
       "        <tr>\n",
       "            <th>State</th> <th>2010 Pop sum</th> <th>2014 Pop sum</th>\n",
       "        </tr>\n",
       "    </thead>\n",
       "    <tbody>\n",
       "        <tr>\n",
       "            <td>Alabama             </td> <td>4785822     </td> <td>4849377     </td>\n",
       "        </tr>\n",
       "        <tr>\n",
       "            <td>Alaska              </td> <td>713856      </td> <td>736732      </td>\n",
       "        </tr>\n",
       "        <tr>\n",
       "            <td>Arizona             </td> <td>6411999     </td> <td>6731484     </td>\n",
       "        </tr>\n",
       "        <tr>\n",
       "            <td>Arkansas            </td> <td>2922297     </td> <td>2966369     </td>\n",
       "        </tr>\n",
       "        <tr>\n",
       "            <td>California          </td> <td>37336011    </td> <td>38802500    </td>\n",
       "        </tr>\n",
       "        <tr>\n",
       "            <td>Colorado            </td> <td>5048575     </td> <td>5355866     </td>\n",
       "        </tr>\n",
       "        <tr>\n",
       "            <td>Connecticut         </td> <td>3579345     </td> <td>3596677     </td>\n",
       "        </tr>\n",
       "        <tr>\n",
       "            <td>Delaware            </td> <td>899731      </td> <td>935614      </td>\n",
       "        </tr>\n",
       "        <tr>\n",
       "            <td>District of Columbia</td> <td>605210      </td> <td>658893      </td>\n",
       "        </tr>\n",
       "        <tr>\n",
       "            <td>Florida             </td> <td>18852220    </td> <td>19893297    </td>\n",
       "        </tr>\n",
       "    </tbody>\n",
       "</table>\n",
       "<p>... (41 rows omitted)</p>"
      ],
      "text/plain": [
       "State                | 2010 Pop sum | 2014 Pop sum\n",
       "Alabama              | 4785822      | 4849377\n",
       "Alaska               | 713856       | 736732\n",
       "Arizona              | 6411999      | 6731484\n",
       "Arkansas             | 2922297      | 2966369\n",
       "California           | 37336011     | 38802500\n",
       "Colorado             | 5048575      | 5355866\n",
       "Connecticut          | 3579345      | 3596677\n",
       "Delaware             | 899731       | 935614\n",
       "District of Columbia | 605210       | 658893\n",
       "Florida              | 18852220     | 19893297\n",
       "... (41 rows omitted)"
      ]
     },
     "execution_count": 13,
     "metadata": {},
     "output_type": "execute_result"
    }
   ],
   "source": [
    "counties_3column = counties.drop('County')\n",
    "states = counties_3column.group('State' , sum)\n",
    "states"
   ]
  },
  {
   "cell_type": "markdown",
   "metadata": {},
   "source": [
    "**Question 3d.**\n",
    "A new table called `biggest_county` that has one row for each state. Its columns should contain\n",
    "the state's name, the name of the largest county in the state (by 2014 population), the 2010 population\n",
    "of that county, and the 2014 population of that county. It doesn't matter what the column names are."
   ]
  },
  {
   "cell_type": "code",
   "execution_count": 11,
   "metadata": {},
   "outputs": [
    {
     "data": {
      "text/html": [
       "<table border=\"1\" class=\"dataframe\">\n",
       "    <thead>\n",
       "        <tr>\n",
       "            <th>State</th> <th>County max</th> <th>2010 Pop max</th> <th>2014 Pop max</th>\n",
       "        </tr>\n",
       "    </thead>\n",
       "    <tbody>\n",
       "        <tr>\n",
       "            <td>Alabama             </td> <td>Winston County           </td> <td>658302      </td> <td>660793      </td>\n",
       "        </tr>\n",
       "        <tr>\n",
       "            <td>Alaska              </td> <td>Yukon-Koyukuk Census Area</td> <td>293337      </td> <td>301010      </td>\n",
       "        </tr>\n",
       "        <tr>\n",
       "            <td>Arizona             </td> <td>Yuma County              </td> <td>3823609     </td> <td>4087191     </td>\n",
       "        </tr>\n",
       "        <tr>\n",
       "            <td>Arkansas            </td> <td>Yell County              </td> <td>383600      </td> <td>392702      </td>\n",
       "        </tr>\n",
       "        <tr>\n",
       "            <td>California          </td> <td>Yuba County              </td> <td>9827231     </td> <td>10116705    </td>\n",
       "        </tr>\n",
       "        <tr>\n",
       "            <td>Colorado            </td> <td>Yuma County              </td> <td>626895      </td> <td>663862      </td>\n",
       "        </tr>\n",
       "        <tr>\n",
       "            <td>Connecticut         </td> <td>Windham County           </td> <td>919506      </td> <td>945438      </td>\n",
       "        </tr>\n",
       "        <tr>\n",
       "            <td>Delaware            </td> <td>Sussex County            </td> <td>538873      </td> <td>552778      </td>\n",
       "        </tr>\n",
       "        <tr>\n",
       "            <td>District of Columbia</td> <td>District of Columbia     </td> <td>605210      </td> <td>658893      </td>\n",
       "        </tr>\n",
       "        <tr>\n",
       "            <td>Florida             </td> <td>Washington County        </td> <td>2508689     </td> <td>2662874     </td>\n",
       "        </tr>\n",
       "    </tbody>\n",
       "</table>\n",
       "<p>... (41 rows omitted)</p>"
      ],
      "text/plain": [
       "State                | County max                | 2010 Pop max | 2014 Pop max\n",
       "Alabama              | Winston County            | 658302       | 660793\n",
       "Alaska               | Yukon-Koyukuk Census Area | 293337       | 301010\n",
       "Arizona              | Yuma County               | 3823609      | 4087191\n",
       "Arkansas             | Yell County               | 383600       | 392702\n",
       "California           | Yuba County               | 9827231      | 10116705\n",
       "Colorado             | Yuma County               | 626895       | 663862\n",
       "Connecticut          | Windham County            | 919506       | 945438\n",
       "Delaware             | Sussex County             | 538873       | 552778\n",
       "District of Columbia | District of Columbia      | 605210       | 658893\n",
       "Florida              | Washington County         | 2508689      | 2662874\n",
       "... (41 rows omitted)"
      ]
     },
     "execution_count": 11,
     "metadata": {},
     "output_type": "execute_result"
    }
   ],
   "source": [
    "# Grouping by state using 'max' will give the alphabetical last county,\n",
    "# the largest 2010 pop in the state, and the largest 2014 pop in the\n",
    "# state - these might all be different counties!\n",
    "#\n",
    "# DON'T DO THIS:\n",
    "counties.group('State', max)"
   ]
  },
  {
   "cell_type": "code",
   "execution_count": 16,
   "metadata": {},
   "outputs": [
    {
     "data": {
      "text/html": [
       "<table border=\"1\" class=\"dataframe\">\n",
       "    <thead>\n",
       "        <tr>\n",
       "            <th>State</th> <th>County first</th> <th>2010 Pop first</th> <th>2014 Pop first</th>\n",
       "        </tr>\n",
       "    </thead>\n",
       "    <tbody>\n",
       "        <tr>\n",
       "            <td>Alabama             </td> <td>Jefferson County      </td> <td>658302        </td> <td>660793        </td>\n",
       "        </tr>\n",
       "        <tr>\n",
       "            <td>Alaska              </td> <td>Anchorage Municipality</td> <td>293337        </td> <td>301010        </td>\n",
       "        </tr>\n",
       "        <tr>\n",
       "            <td>Arizona             </td> <td>Maricopa County       </td> <td>3823609       </td> <td>4087191       </td>\n",
       "        </tr>\n",
       "        <tr>\n",
       "            <td>Arkansas            </td> <td>Pulaski County        </td> <td>383600        </td> <td>392702        </td>\n",
       "        </tr>\n",
       "        <tr>\n",
       "            <td>California          </td> <td>Los Angeles County    </td> <td>9827231       </td> <td>10116705      </td>\n",
       "        </tr>\n",
       "        <tr>\n",
       "            <td>Colorado            </td> <td>Denver County         </td> <td>603365        </td> <td>663862        </td>\n",
       "        </tr>\n",
       "        <tr>\n",
       "            <td>Connecticut         </td> <td>Fairfield County      </td> <td>919506        </td> <td>945438        </td>\n",
       "        </tr>\n",
       "        <tr>\n",
       "            <td>Delaware            </td> <td>New Castle County     </td> <td>538873        </td> <td>552778        </td>\n",
       "        </tr>\n",
       "        <tr>\n",
       "            <td>District of Columbia</td> <td>District of Columbia  </td> <td>605210        </td> <td>658893        </td>\n",
       "        </tr>\n",
       "        <tr>\n",
       "            <td>Florida             </td> <td>Miami-Dade County     </td> <td>2508689       </td> <td>2662874       </td>\n",
       "        </tr>\n",
       "    </tbody>\n",
       "</table>\n",
       "<p>... (41 rows omitted)</p>"
      ],
      "text/plain": [
       "State                | County first           | 2010 Pop first | 2014 Pop first\n",
       "Alabama              | Jefferson County       | 658302         | 660793\n",
       "Alaska               | Anchorage Municipality | 293337         | 301010\n",
       "Arizona              | Maricopa County        | 3823609        | 4087191\n",
       "Arkansas             | Pulaski County         | 383600         | 392702\n",
       "California           | Los Angeles County     | 9827231        | 10116705\n",
       "Colorado             | Denver County          | 603365         | 663862\n",
       "Connecticut          | Fairfield County       | 919506         | 945438\n",
       "Delaware             | New Castle County      | 538873         | 552778\n",
       "District of Columbia | District of Columbia   | 605210         | 658893\n",
       "Florida              | Miami-Dade County      | 2508689        | 2662874\n",
       "... (41 rows omitted)"
      ]
     },
     "execution_count": 16,
     "metadata": {},
     "output_type": "execute_result"
    }
   ],
   "source": [
    "# Correct solution for 3d:\n",
    "sorted = counties.sort('2014 Pop' , descending = True)\n",
    "biggest_county = sorted.group('State' , first)\n",
    "biggest_county"
   ]
  },
  {
   "cell_type": "markdown",
   "metadata": {},
   "source": [
    "**Question 3e.** The table `biggest_county` with an additional column called `'Pct in Largest County'`. The column should contain what percent of that state's population lived in the largest county in 2014. For example, if a state has only three counties and the populations in 2014 are 250,000, 200,000, and 50,000, then `'Pct in Largest County'` should be 50."
   ]
  },
  {
   "cell_type": "code",
   "execution_count": null,
   "metadata": {},
   "outputs": [],
   "source": [
    "with_states = biggest_county.___(___ , ___)\n",
    "biggest_county_with_pct = biggest_county.with_column('Pct in Largest County',\\\n",
    "                                                     "
   ]
  }
 ],
 "metadata": {
  "kernelspec": {
   "display_name": "Python 3",
   "language": "python",
   "name": "python3"
  },
  "language_info": {
   "codemirror_mode": {
    "name": "ipython",
    "version": 3
   },
   "file_extension": ".py",
   "mimetype": "text/x-python",
   "name": "python",
   "nbconvert_exporter": "python",
   "pygments_lexer": "ipython3",
   "version": "3.7.3"
  }
 },
 "nbformat": 4,
 "nbformat_minor": 2
}
